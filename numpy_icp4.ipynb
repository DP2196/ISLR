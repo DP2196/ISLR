{
  "nbformat": 4,
  "nbformat_minor": 0,
  "metadata": {
    "colab": {
      "name": "numpy_icp4.ipynb",
      "provenance": [],
      "collapsed_sections": [],
      "authorship_tag": "ABX9TyO606DH5oMsDxkpoM1+MBlX",
      "include_colab_link": true
    },
    "kernelspec": {
      "name": "python3",
      "display_name": "Python 3"
    },
    "language_info": {
      "name": "python"
    }
  },
  "cells": [
    {
      "cell_type": "markdown",
      "metadata": {
        "id": "view-in-github",
        "colab_type": "text"
      },
      "source": [
        "<a href=\"https://colab.research.google.com/github/DP2196/ISLR/blob/master/numpy_icp4.ipynb\" target=\"_parent\"><img src=\"https://colab.research.google.com/assets/colab-badge.svg\" alt=\"Open In Colab\"/></a>"
      ]
    },
    {
      "cell_type": "code",
      "metadata": {
        "colab": {
          "base_uri": "https://localhost:8080/"
        },
        "id": "EOeoFCKbyjOw",
        "outputId": "a0afe130-9d55-4349-d7d5-30df557df017"
      },
      "source": [
        "import numpy as num\n",
        "\n",
        "#generating random array of size 15 with integers in the range 1 to 20 (including)\n",
        "arr = num.random.randint(1, high=21, size=15, dtype=int)\n",
        "print (arr)"
      ],
      "execution_count": 1,
      "outputs": [
        {
          "output_type": "stream",
          "name": "stdout",
          "text": [
            "[18  9 20 18  1 18 17 20  1  1 15 15  9  6 15]\n"
          ]
        }
      ]
    },
    {
      "cell_type": "code",
      "metadata": {
        "colab": {
          "base_uri": "https://localhost:8080/"
        },
        "id": "fHOY2UcTymfc",
        "outputId": "7a630313-3490-4956-ce8d-a559ac358cf4"
      },
      "source": [
        "# reshape the created one dimensional array\n",
        "reshape_arr= arr.reshape(3,5)\n",
        "# printing the reshaped array\n",
        "print(reshape_arr)"
      ],
      "execution_count": 2,
      "outputs": [
        {
          "output_type": "stream",
          "name": "stdout",
          "text": [
            "[[18  9 20 18  1]\n",
            " [18 17 20  1  1]\n",
            " [15 15  9  6 15]]\n"
          ]
        }
      ]
    },
    {
      "cell_type": "code",
      "metadata": {
        "colab": {
          "base_uri": "https://localhost:8080/"
        },
        "id": "5HkDvMlty8va",
        "outputId": "a572f636-f4d7-44dc-d17d-337451455a4c"
      },
      "source": [
        "# printing the array shape\n",
        "print(reshape_arr.shape)"
      ],
      "execution_count": 3,
      "outputs": [
        {
          "output_type": "stream",
          "name": "stdout",
          "text": [
            "(3, 5)\n"
          ]
        }
      ]
    },
    {
      "cell_type": "code",
      "metadata": {
        "colab": {
          "base_uri": "https://localhost:8080/"
        },
        "id": "8vtTrIRYyuqa",
        "outputId": "a13bf438-8735-46f4-ab58-4405fd09a1bc"
      },
      "source": [
        "# finding max in each row\n",
        "maxNum = num.amax(reshape_arr, axis=1)\n",
        "# replace the max value in the row with zeros using num.where and num.isin functions\n",
        "replaced_arr=num.where(num.isin(reshape_arr,maxNum), 0, reshape_arr)\n",
        "# print replace array\n",
        "print(replaced_arr)\n"
      ],
      "execution_count": 4,
      "outputs": [
        {
          "output_type": "stream",
          "name": "stdout",
          "text": [
            "[[18  9  0 18  1]\n",
            " [18 17  0  1  1]\n",
            " [ 0  0  9  6  0]]\n"
          ]
        }
      ]
    },
    {
      "cell_type": "code",
      "metadata": {
        "colab": {
          "base_uri": "https://localhost:8080/"
        },
        "id": "QxQ04DHnyyFk",
        "outputId": "2d455e97-d019-4f7e-b337-6e30ce8f2d60"
      },
      "source": [
        "# extracting the diagonal from the array\n",
        "diag_arr=num.diag(replaced_arr)\n",
        "print(diag_arr)"
      ],
      "execution_count": 5,
      "outputs": [
        {
          "output_type": "stream",
          "name": "stdout",
          "text": [
            "[18 17  9]\n"
          ]
        }
      ]
    },
    {
      "cell_type": "code",
      "metadata": {
        "colab": {
          "base_uri": "https://localhost:8080/"
        },
        "id": "DvDddwMzzCKI",
        "outputId": "643269ce-1956-4512-c20c-f5cb74efec68"
      },
      "source": [
        "num.save('diagonal.npy', diag_arr) # saving the diagonal array to .npy format\n",
        "diagonal_arr = num.load('diagonal.npy') # loading the .npy format file to a varaible and printing it\n",
        "print(diagonal_arr)"
      ],
      "execution_count": 6,
      "outputs": [
        {
          "output_type": "stream",
          "name": "stdout",
          "text": [
            "[18 17  9]\n"
          ]
        }
      ]
    }
  ]
}