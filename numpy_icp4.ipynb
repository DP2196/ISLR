{
  "nbformat": 4,
  "nbformat_minor": 0,
  "metadata": {
    "colab": {
      "name": "numpy_icp4.ipynb",
      "provenance": [],
      "collapsed_sections": [],
      "authorship_tag": "ABX9TyO606DH5oMsDxkpoM1+MBlX",
      "include_colab_link": true
    },
    "kernelspec": {
      "name": "python3",
      "display_name": "Python 3"
    },
    "language_info": {
      "name": "python"
    }
  },
  "cells": [
    {
      "cell_type": "markdown",
      "metadata": {
        "id": "view-in-github",
        "colab_type": "text"
      },
      "source": [
        "<a href=\"https://colab.research.google.com/github/DP2196/ISLR/blob/master/numpy_icp4.ipynb\" target=\"_parent\"><img src=\"https://colab.research.google.com/assets/colab-badge.svg\" alt=\"Open In Colab\"/></a>"
      ]
    },
    {
      "cell_type": "code",
      "metadata": {
        "id": "EOeoFCKbyjOw"
      },
      "source": [
        "import numpy as num\n",
        "\n",
        "#generating random array of size 15 with integers in the range 1 to 20 (including)\n",
        "arr = num.random.randint(1, high=21, size=15, dtype=int)\n",
        "print (arr)"
      ],
      "execution_count": null,
      "outputs": []
    },
    {
      "cell_type": "code",
      "metadata": {
        "id": "fHOY2UcTymfc"
      },
      "source": [
        "# reshape the created one dimensional array\n",
        "reshape_arr= arr.reshape(3,5)\n",
        "# printing the reshaped array\n",
        "print(reshape_arr)"
      ],
      "execution_count": null,
      "outputs": []
    },
    {
      "cell_type": "code",
      "metadata": {
        "id": "5HkDvMlty8va"
      },
      "source": [
        "# printing the array shape\n",
        "print(reshape_arr.shape)"
      ],
      "execution_count": null,
      "outputs": []
    },
    {
      "cell_type": "code",
      "metadata": {
        "id": "8vtTrIRYyuqa"
      },
      "source": [
        "# finding max in each row\n",
        "maxNum = num.amax(reshape_arr, axis=1)\n",
        "# replace the max value in the row with zeros using num.where and num.isin functions\n",
        "replaced_arr=num.where(num.isin(reshape_arr,maxNum), 0, reshape_arr)\n",
        "# print replace array\n",
        "print(replaced_arr)\n"
      ],
      "execution_count": null,
      "outputs": []
    },
    {
      "cell_type": "code",
      "metadata": {
        "id": "QxQ04DHnyyFk"
      },
      "source": [
        "# extracting the diagonal from the array\n",
        "diag_arr=num.diag(replaced_arr)\n",
        "print(diag_arr)"
      ],
      "execution_count": null,
      "outputs": []
    },
    {
      "cell_type": "code",
      "metadata": {
        "id": "DvDddwMzzCKI"
      },
      "source": [
        "num.save('diagonal.npy', diag_arr) # saving the diagonal array to .npy format\n",
        "diagonal_arr = num.load('diagonal.npy') # loading the .npy format file to a varaible and printing it\n",
        "print(diagonal_arr)"
      ],
      "execution_count": null,
      "outputs": []
    }
  ]
}